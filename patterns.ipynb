{
  "nbformat": 4,
  "nbformat_minor": 0,
  "metadata": {
    "colab": {
      "name": "patterns.ipynb",
      "provenance": [],
      "collapsed_sections": [],
      "authorship_tag": "ABX9TyOY634at7gEPHflre39dbHk",
      "include_colab_link": true
    },
    "kernelspec": {
      "name": "python3",
      "display_name": "Python 3"
    },
    "language_info": {
      "name": "python"
    }
  },
  "cells": [
    {
      "cell_type": "markdown",
      "metadata": {
        "id": "view-in-github",
        "colab_type": "text"
      },
      "source": [
        "<a href=\"https://colab.research.google.com/github/savan590/savan/blob/main/patterns.ipynb\" target=\"_parent\"><img src=\"https://colab.research.google.com/assets/colab-badge.svg\" alt=\"Open In Colab\"/></a>"
      ]
    },
    {
      "cell_type": "code",
      "execution_count": 1,
      "metadata": {
        "colab": {
          "base_uri": "https://localhost:8080/"
        },
        "id": "RK3dUDcZnWIm",
        "outputId": "4db73dd5-d9b9-4494-c157-5a9dfb2a6ee1"
      },
      "outputs": [
        {
          "output_type": "stream",
          "name": "stdout",
          "text": [
            "enter the numbers of rows: 6\n",
            "*  \n",
            "* *  \n",
            "* * *  \n",
            "* * * *  \n",
            "* * * * *  \n",
            "* * * * * *  \n"
          ]
        }
      ],
      "source": [
        "#pattern 1\n",
        "n=int(input(\"enter the numbers of rows: \"))\n",
        "for i in range(0,n):\n",
        " print(\"* \"*(i+1),end=\" \")\n",
        " print()\n"
      ]
    },
    {
      "cell_type": "code",
      "source": [
        "#pattern 2\n",
        "n=int(input(\"enter the numbers of rows: \"))\n",
        "for i in range(n,0,-1):\n",
        " print(\"* \"*(i),end=\" \")\n",
        " print()"
      ],
      "metadata": {
        "colab": {
          "base_uri": "https://localhost:8080/"
        },
        "id": "wKMX8sY1piI8",
        "outputId": "f3bdcb29-9beb-4aae-caed-e3822cc88b28"
      },
      "execution_count": 2,
      "outputs": [
        {
          "output_type": "stream",
          "name": "stdout",
          "text": [
            "enter the numbers of rows: 6\n",
            "* * * * * *  \n",
            "* * * * *  \n",
            "* * * *  \n",
            "* * *  \n",
            "* *  \n",
            "*  \n"
          ]
        }
      ]
    },
    {
      "cell_type": "code",
      "source": [
        "#pattern 3\n",
        "n=int(input(\"enter the numbers of rows: \"))\n",
        "for i in range(0,n):\n",
        " print(\" \"*(2*(n-i)-2),end=\"\")\n",
        " print(\"* \"*(i+1),end=\" \")\n",
        " print()\n"
      ],
      "metadata": {
        "colab": {
          "base_uri": "https://localhost:8080/"
        },
        "id": "YundLlQwpqnc",
        "outputId": "3f272417-024d-4a86-accd-d53986c51ce8"
      },
      "execution_count": 3,
      "outputs": [
        {
          "output_type": "stream",
          "name": "stdout",
          "text": [
            "enter the numbers of rows: 6\n",
            "          *  \n",
            "        * *  \n",
            "      * * *  \n",
            "    * * * *  \n",
            "  * * * * *  \n",
            "* * * * * *  \n"
          ]
        }
      ]
    },
    {
      "cell_type": "code",
      "source": [
        "#pattern 4\n",
        "n=int(input(\"enter the numbers of rows: \"))\n",
        "for i in range(n,0,-1):\n",
        " print(\" \"*(2*(n-i)),end=\"\")\n",
        " print(\"* \"*(i),end=\" \")\n",
        " print()"
      ],
      "metadata": {
        "colab": {
          "base_uri": "https://localhost:8080/"
        },
        "id": "DzQyFBF2pyxD",
        "outputId": "195efe05-b424-466d-ba1c-0c19bba19c26"
      },
      "execution_count": 4,
      "outputs": [
        {
          "output_type": "stream",
          "name": "stdout",
          "text": [
            "enter the numbers of rows: 6\n",
            "* * * * * *  \n",
            "  * * * * *  \n",
            "    * * * *  \n",
            "      * * *  \n",
            "        * *  \n",
            "          *  \n"
          ]
        }
      ]
    },
    {
      "cell_type": "code",
      "source": [
        "#pattern 5\n",
        "n=int(input(\"enter the numbers of rows: \"))\n",
        "for i in range(0,n):\n",
        " print(\"* \"*(i+1),end=\"\") \n",
        " print(\" \"*(4*(n-i)-4),end=\"\")\n",
        " print(\"* \"*(i+1),end=\"\") \n",
        " print()\n"
      ],
      "metadata": {
        "colab": {
          "base_uri": "https://localhost:8080/"
        },
        "id": "LjOlgmAIp7A6",
        "outputId": "c4a13aa0-abf4-490c-b742-9a1a83ecc095"
      },
      "execution_count": 5,
      "outputs": [
        {
          "output_type": "stream",
          "name": "stdout",
          "text": [
            "enter the numbers of rows: 6\n",
            "*                     * \n",
            "* *                 * * \n",
            "* * *             * * * \n",
            "* * * *         * * * * \n",
            "* * * * *     * * * * * \n",
            "* * * * * * * * * * * * \n"
          ]
        }
      ]
    },
    {
      "cell_type": "code",
      "source": [
        "#pattern 6\n",
        "n=int(input(\"enter the numbers of rows: \"))\n",
        "for i in range(n,0,-1):\n",
        " print(\"* \"*(i),end=\"\") \n",
        " print(\" \"*(4*(n-i)),end=\"\")\n",
        " print(\"* \"*(i),end=\"\") \n",
        " print()\n"
      ],
      "metadata": {
        "colab": {
          "base_uri": "https://localhost:8080/"
        },
        "id": "SXxkJ_02qFKr",
        "outputId": "03bbc4c4-42c2-4b68-b624-48237cb94681"
      },
      "execution_count": 6,
      "outputs": [
        {
          "output_type": "stream",
          "name": "stdout",
          "text": [
            "enter the numbers of rows: 6\n",
            "* * * * * * * * * * * * \n",
            "* * * * *     * * * * * \n",
            "* * * *         * * * * \n",
            "* * *             * * * \n",
            "* *                 * * \n",
            "*                     * \n"
          ]
        }
      ]
    },
    {
      "cell_type": "code",
      "source": [
        "#pattern 7\n",
        "n=int(input(\"enter the numbers of rows: \"))\n",
        "for i in range(0,n):\n",
        " print(\" \"*(n-i-1),end=\"\")\n",
        " print(\"* \"*(i+1),end=\" \")\n",
        " print(\" \"*(n-i-1),end=\"\")\n",
        " print()"
      ],
      "metadata": {
        "colab": {
          "base_uri": "https://localhost:8080/"
        },
        "id": "hj711StZqL2r",
        "outputId": "6aec88ca-f7d5-4619-b2e0-2ec89828dc6b"
      },
      "execution_count": 7,
      "outputs": [
        {
          "output_type": "stream",
          "name": "stdout",
          "text": [
            "enter the numbers of rows: 6\n",
            "     *       \n",
            "    * *      \n",
            "   * * *     \n",
            "  * * * *    \n",
            " * * * * *   \n",
            "* * * * * *  \n"
          ]
        }
      ]
    },
    {
      "cell_type": "code",
      "source": [
        "#pattern 8\n",
        "n=int(input(\"enter the numbers of rows: \"))\n",
        "for i in range(n,0,-1):\n",
        " print(\" \"*(n-i),end=\"\")\n",
        " print(\"* \"*(i),end=\" \")\n",
        " print(\" \"*(n-i),end=\"\")\n",
        " print()"
      ],
      "metadata": {
        "colab": {
          "base_uri": "https://localhost:8080/"
        },
        "id": "qpID94WRqcaK",
        "outputId": "65392204-0add-4d1c-dd86-394570b29e5b"
      },
      "execution_count": 8,
      "outputs": [
        {
          "output_type": "stream",
          "name": "stdout",
          "text": [
            "enter the numbers of rows: 6\n",
            "* * * * * *  \n",
            " * * * * *   \n",
            "  * * * *    \n",
            "   * * *     \n",
            "    * *      \n",
            "     *       \n"
          ]
        }
      ]
    },
    {
      "cell_type": "code",
      "source": [
        "#pattern 9\n",
        "n=int(input(\"enter the numbers of rows: \"))\n",
        "for i in range(1,n+1):\n",
        " print('%d '%i*i ,end=\" \")\n",
        " print()\n"
      ],
      "metadata": {
        "colab": {
          "base_uri": "https://localhost:8080/"
        },
        "id": "WW-oyRw2qnxq",
        "outputId": "2f97b494-7c45-45b3-a22e-4f687b3d656b"
      },
      "execution_count": 9,
      "outputs": [
        {
          "output_type": "stream",
          "name": "stdout",
          "text": [
            "enter the numbers of rows: 6\n",
            "1  \n",
            "2 2  \n",
            "3 3 3  \n",
            "4 4 4 4  \n",
            "5 5 5 5 5  \n",
            "6 6 6 6 6 6  \n"
          ]
        }
      ]
    },
    {
      "cell_type": "code",
      "source": [
        "#pattern 10\n",
        "a=1\n",
        "n=int(input(\"enter the numbers of rows: \"))\n",
        "for i in range(1,n+1):\n",
        " for j in range(0,i):\n",
        "  print(a,end=\" \")\n",
        "  a=a+1\n",
        " print() \n"
      ],
      "metadata": {
        "colab": {
          "base_uri": "https://localhost:8080/"
        },
        "id": "qAVLwTegqwgs",
        "outputId": "f22183d3-309f-4aff-a0a7-08ad961ed00f"
      },
      "execution_count": 13,
      "outputs": [
        {
          "output_type": "stream",
          "name": "stdout",
          "text": [
            "enter the numbers of rows: 4\n",
            "1 \n",
            "2 3 \n",
            "4 5 6 \n",
            "7 8 9 10 \n"
          ]
        }
      ]
    },
    {
      "cell_type": "code",
      "source": [
        "#pattern 11\n",
        "n=int(input(\"enter the numbers of rows: \"))\n",
        "for i in range(1,n+1):\n",
        " print(\" \"*(n-i),end=\"\")\n",
        " print('%d '%i*(i) ,end=\" \")\n",
        " print(\" \"*(n-i),end=\"\")\n",
        " print()\n"
      ],
      "metadata": {
        "colab": {
          "base_uri": "https://localhost:8080/"
        },
        "id": "__A35CwRrJHS",
        "outputId": "28879737-e849-437f-8fdf-57046f8f1198"
      },
      "execution_count": 14,
      "outputs": [
        {
          "output_type": "stream",
          "name": "stdout",
          "text": [
            "enter the numbers of rows: 4\n",
            "   1     \n",
            "  2 2    \n",
            " 3 3 3   \n",
            "4 4 4 4  \n"
          ]
        }
      ]
    },
    {
      "cell_type": "code",
      "source": [
        "#pattern 12\n",
        "n = int(input(\"Enter the number of rows : \"))\n",
        "for i in range(1,n+1):\n",
        "   print(\" \"*(n-i),end=\"\")\n",
        "   m=1\n",
        "   for j in range(1,i+1):\n",
        "     print(m,end=\" \")\n",
        "     m = int(m*(i-j)/(j))\n",
        "   print(\" \"*(n-i),end=\"\")\n",
        "   print()"
      ],
      "metadata": {
        "colab": {
          "base_uri": "https://localhost:8080/"
        },
        "id": "UR3y8sryrTSL",
        "outputId": "c40a5841-3704-43c9-89f0-d238c10c6e4d"
      },
      "execution_count": 16,
      "outputs": [
        {
          "output_type": "stream",
          "name": "stdout",
          "text": [
            "Enter the number of rows : 5\n",
            "    1     \n",
            "   1 1    \n",
            "  1 2 1   \n",
            " 1 3 3 1  \n",
            "1 4 6 4 1 \n"
          ]
        }
      ]
    },
    {
      "cell_type": "code",
      "source": [
        "#pattern 13\n",
        "s=str(input(\"enter the string : \")) \n",
        "for i in range(1,len(s)+1):\n",
        " print(\" \".join(s[:i]),end=\"\")\n",
        " print()"
      ],
      "metadata": {
        "colab": {
          "base_uri": "https://localhost:8080/"
        },
        "id": "P9afX-cVr0pV",
        "outputId": "f0bdd6f1-f5d5-4b10-bd2c-9a4706355eb6"
      },
      "execution_count": 17,
      "outputs": [
        {
          "output_type": "stream",
          "name": "stdout",
          "text": [
            "enter the string : MARWADI\n",
            "M\n",
            "M A\n",
            "M A R\n",
            "M A R W\n",
            "M A R W A\n",
            "M A R W A D\n",
            "M A R W A D I\n"
          ]
        }
      ]
    },
    {
      "cell_type": "code",
      "source": [
        "#pattern 14\n",
        "s=str(input(\"enter the string : \")) \n",
        "for i in range(1,len(s)+1):\n",
        " print(\" \"*(len(s)-i),end=\"\")\n",
        " print(\" \".join(s[:i]),end=\"\")\n",
        " print(\" \"*(len(s)-i),end=\"\")\n",
        " print()\n"
      ],
      "metadata": {
        "colab": {
          "base_uri": "https://localhost:8080/"
        },
        "id": "_u0MsQsJr8AT",
        "outputId": "1809290a-db67-4ffa-d7cb-0f29e83dcecf"
      },
      "execution_count": 18,
      "outputs": [
        {
          "output_type": "stream",
          "name": "stdout",
          "text": [
            "enter the string : marwadi\n",
            "      m      \n",
            "     m a     \n",
            "    m a r    \n",
            "   m a r w   \n",
            "  m a r w a  \n",
            " m a r w a d \n",
            "m a r w a d i\n"
          ]
        }
      ]
    }
  ]
}